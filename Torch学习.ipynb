{
 "cells": [
  {
   "cell_type": "markdown",
   "source": [
    "Maxpool: 参数\n",
    "    kernel_size(int or tuple) ：max pooling的窗口大小\n",
    "    stride(int or tuple, optional)：max pooling的窗口移动的步长。默认值是kernel_size\n",
    "    padding(int or tuple, optional) ：输入的每一条边补充0的层数  (2,1)  上下填2 个0 ,左右填1个\n",
    "    dilation(int or tuple, optional)：一个控制窗口中元素步幅的参数\n",
    "    return_indices ：如果等于True，会返回输出最大值的序号，对于上采样操作会有帮助\n",
    "    ceil_mode ：如果等于True，计算输出信号大小的时候，会使用向上取整，代替默认的向下取整的操作 maxpool默认向下取整\n",
    "\n",
    "conv = nn.Conv2d(in_channels=3,out_channels=3,kernel_size=3,padding='same')\n",
    "#[ batch_size, channels, height_1, width_1 ]\n",
    "注意Conv2d的输入数据格式强制为  batch_size ,然后为通道数,然后才是图片的高和宽!!!\n"
   ],
   "metadata": {
    "collapsed": false
   }
  },
  {
   "cell_type": "code",
   "execution_count": 1,
   "metadata": {
    "collapsed": true
   },
   "outputs": [
    {
     "data": {
      "text/plain": "torch.Size([1, 3, 12, 12])"
     },
     "execution_count": 1,
     "metadata": {},
     "output_type": "execute_result"
    }
   ],
   "source": [
    "'''Maxpool'''\n",
    "import torch.nn as nn\n",
    "import numpy as np\n",
    "import matplotlib.pyplot as plt\n",
    "import torch.nn as nn\n",
    "import torch\n",
    " # pool of square window of size=3, stride=2\n",
    "pool = nn.MaxPool2d(2, stride=2)\n",
    "conv = nn.Conv2d(in_channels=3,out_channels=3,kernel_size=3,padding='same') #[ batch_size, channels, height_1, width_1 ]\n",
    "# pool of non-square window\n",
    "input = torch.randn(1,3,24,24)\n",
    "output = conv(input)\n",
    "output = pool(output)\n",
    "output.shape"
   ]
  }
 ],
 "metadata": {
  "kernelspec": {
   "display_name": "Python 3",
   "language": "python",
   "name": "python3"
  },
  "language_info": {
   "codemirror_mode": {
    "name": "ipython",
    "version": 2
   },
   "file_extension": ".py",
   "mimetype": "text/x-python",
   "name": "python",
   "nbconvert_exporter": "python",
   "pygments_lexer": "ipython2",
   "version": "2.7.6"
  }
 },
 "nbformat": 4,
 "nbformat_minor": 0
}