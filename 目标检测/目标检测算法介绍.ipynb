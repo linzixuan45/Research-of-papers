{
 "cells": [
  {
   "cell_type": "markdown",
   "metadata": {
    "collapsed": true,
    "pycharm": {
     "name": "#%% md\n"
    }
   },
   "source": [
    "目标检测分为两个方向：传统算法 和 基于深度学习的算法\n",
    "\n",
    "传统算法：\n",
    "    Haar小波变换 + Adaboost算法\n",
    "    Hog特征 + SVM支持向量机\n",
    "    DPM算法\n",
    "\n",
    "\n",
    "\n",
    "\n",
    "\n",
    "\n",
    "基于深度学习的算法：\n",
    "    RCNN系列  -> Fast-RCNN -> Faster-RCNN      (Region-CNN   RCNN)\n",
    "        使用最广泛\n",
    "    RCNN：\n",
    "         原理：\n",
    "            对于每个图像，都有一个滑动窗口来搜索图像中的每个位置\n",
    "         步骤：\n",
    "            1. 首先，R-CNN 使用选择性搜索生成大约 2000 个区域提议，即用于图像分类的边界框。\n",
    "            2. 然后，对于每个边界框，通过 CNN 完成图像分类。\n",
    "            3. 最后，可以使用回归细化每个边界框.\n",
    "         优缺点：\n",
    "            训练网络需要大量时间，必须对每张图像 2000 个区域建议进行分类.\n",
    "            无法实时实现，因为每个测试图像需要大约 47 秒\n",
    "            选择性搜索算法是一种固定算法。因此，在那个阶段可能会生成糟糕的候选区域提议\n",
    "    Fast - RCNN\n",
    "        原理：\n",
    "            类似于R-CNN 算法。将输入图像提供给 CNN 以生成卷积特征图\n",
    "            卷积特征图中，我们识别出提议的区域并将它们变形为正方形，并通过使用 RoI 池化层将它们重塑为固定大小，\n",
    "            以便可以将其馈送到全连接层。从 RoI 特征向量，我们使用 softmax 层来预测提议区域的类别以及边界框的偏移值.\n",
    "        优缺点：\n",
    "            比 R-CNN 更快\n",
    "            每个图像只进行一次卷积操作，并从中生成一个特征图\n",
    "    Faster -RCNN\n",
    "        原理：\n",
    "            图像作为输入提供给提供卷积特征图的卷积网络\n",
    "            使用单独的网络来预测区域提议\n",
    "            使用 RoI 池化层对预测的区域建议进行重塑\n",
    "            使用 RoI 池化层对建议区域内的图像进行分类并预测边界框的偏移值.\n",
    "\n",
    "\n",
    "\n",
    "\n",
    "    YOLO系列 YOLO -> YOLO9000       (You Only Look Once  YOLO)\n",
    "         原理：\n",
    "            YOLO 的工作原理是我们将图像分割成一个 SxS 网格，在每个网格中我们取 m 个边界框。对于每个边界框，\n",
    "            网络输出边界框的类概率和偏移值。选择具有高于阈值的类概率的边界框并用于定位图像内的对象.\n",
    "         优缺点：\n",
    "            快速, 比其他物体检测算法快几个数量级（每秒 45 帧)\n",
    "            无法检测小目标,它在处理图像中的小物体时会遇到困难\n",
    "\n",
    "\n",
    "    SSD：(Single Shot MultiBox Detector)\n",
    "        介绍：\n",
    "            MultiBox 是一种边界框回归技术的名称\n",
    "            该网络是一个对象检测器，它也对那些检测到的对象进行分类\n",
    "\n",
    "        优缺点：\n",
    "             在快速性和精确性之间达到了一个更好的平衡，SSD 只对输入图像运行一次卷积网络.\n",
    "             SSD 还使用了各种长宽比的锚点，SSD 在多个卷积层之后预测边界框,由于每个卷积层都在不同的尺度上运行，因此它能够检测混合尺度的对象."
   ]
  }
 ],
 "metadata": {
  "kernelspec": {
   "display_name": "Python 3",
   "language": "python",
   "name": "python3"
  },
  "language_info": {
   "codemirror_mode": {
    "name": "ipython",
    "version": 2
   },
   "file_extension": ".py",
   "mimetype": "text/x-python",
   "name": "python",
   "nbconvert_exporter": "python",
   "pygments_lexer": "ipython2",
   "version": "2.7.6"
  }
 },
 "nbformat": 4,
 "nbformat_minor": 0
}