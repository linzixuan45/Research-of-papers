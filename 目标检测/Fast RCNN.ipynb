{
 "cells": [
  {
   "cell_type": "markdown",
   "metadata": {
    "collapsed": true,
    "pycharm": {
     "name": "#%% md\n"
    }
   },
   "source": [
    "Fast - RCNN\n",
    "解决的RCNN的问题\n",
    "    1.训练分多步的问题\n",
    "        RCNN流程：fine tunning预训练网络+SVM分类器+regressores回归\n",
    "    2.时间和内存消耗巨大\n",
    "        训练SVM 和回归的时候,网络的特征参数过多,时间长\n",
    "    3.目标检测分类的测试时间过长\n",
    "        每张图片的每个region proposal都要卷积(2000个,其中框大多数是重复的),重复操作过多\n",
    "\n",
    "算法主要网络：\n",
    "    VGG16\n"
   ]
  },
  {
   "cell_type": "code",
   "execution_count": null,
   "outputs": [],
   "source": [
    "https://blog.csdn.net/u014380165/article/details/72851319"
   ],
   "metadata": {
    "collapsed": false,
    "pycharm": {
     "name": "#%%\n"
    }
   }
  }
 ],
 "metadata": {
  "kernelspec": {
   "display_name": "Python 3",
   "language": "python",
   "name": "python3"
  },
  "language_info": {
   "codemirror_mode": {
    "name": "ipython",
    "version": 2
   },
   "file_extension": ".py",
   "mimetype": "text/x-python",
   "name": "python",
   "nbconvert_exporter": "python",
   "pygments_lexer": "ipython2",
   "version": "2.7.6"
  }
 },
 "nbformat": 4,
 "nbformat_minor": 0
}